{
 "cells": [
  {
   "cell_type": "code",
   "execution_count": 2,
   "id": "58435f11",
   "metadata": {
    "_cell_guid": "b1076dfc-b9ad-4769-8c92-a6c4dae69d19",
    "_uuid": "8f2839f25d086af736a60e9eeb907d3b93b6e0e5",
    "execution": {
     "iopub.execute_input": "2022-05-18T11:56:58.406780Z",
     "iopub.status.busy": "2022-05-18T11:56:58.406030Z",
     "iopub.status.idle": "2022-05-18T11:56:59.567304Z",
     "shell.execute_reply": "2022-05-18T11:56:59.566483Z"
    },
    "papermill": {
     "duration": 1.188536,
     "end_time": "2022-05-18T11:56:59.569890",
     "exception": false,
     "start_time": "2022-05-18T11:56:58.381354",
     "status": "completed"
    },
    "tags": []
   },
   "outputs": [],
   "source": [
    "import numpy as np \n",
    "import pandas as pd \n",
    "import matplotlib.pyplot as plt\n",
    "import seaborn as sns\n",
    "\n"
   ]
  },
  {
   "cell_type": "markdown",
   "id": "336d5674",
   "metadata": {
    "papermill": {
     "duration": 0.024193,
     "end_time": "2022-05-18T11:56:59.619141",
     "exception": false,
     "start_time": "2022-05-18T11:56:59.594948",
     "status": "completed"
    },
    "tags": []
   },
   "source": [
    "# Importing Data"
   ]
  },
  {
   "cell_type": "code",
   "execution_count": 3,
   "id": "3925d93a",
   "metadata": {
    "execution": {
     "iopub.execute_input": "2022-05-18T11:56:59.669681Z",
     "iopub.status.busy": "2022-05-18T11:56:59.669149Z",
     "iopub.status.idle": "2022-05-18T11:56:59.705027Z",
     "shell.execute_reply": "2022-05-18T11:56:59.704283Z"
    },
    "papermill": {
     "duration": 0.064093,
     "end_time": "2022-05-18T11:56:59.707439",
     "exception": false,
     "start_time": "2022-05-18T11:56:59.643346",
     "status": "completed"
    },
    "tags": []
   },
   "outputs": [],
   "source": [
    "df = pd.read_csv('wind_dataset.csv')"
   ]
  },
  {
   "cell_type": "code",
   "execution_count": 4,
   "id": "8e2daade",
   "metadata": {
    "execution": {
     "iopub.execute_input": "2022-05-18T11:56:59.757850Z",
     "iopub.status.busy": "2022-05-18T11:56:59.757272Z",
     "iopub.status.idle": "2022-05-18T11:56:59.781911Z",
     "shell.execute_reply": "2022-05-18T11:56:59.781285Z"
    },
    "papermill": {
     "duration": 0.05271,
     "end_time": "2022-05-18T11:56:59.784297",
     "exception": false,
     "start_time": "2022-05-18T11:56:59.731587",
     "status": "completed"
    },
    "tags": []
   },
   "outputs": [
    {
     "data": {
      "text/html": [
       "<div>\n",
       "<style scoped>\n",
       "    .dataframe tbody tr th:only-of-type {\n",
       "        vertical-align: middle;\n",
       "    }\n",
       "\n",
       "    .dataframe tbody tr th {\n",
       "        vertical-align: top;\n",
       "    }\n",
       "\n",
       "    .dataframe thead th {\n",
       "        text-align: right;\n",
       "    }\n",
       "</style>\n",
       "<table border=\"1\" class=\"dataframe\">\n",
       "  <thead>\n",
       "    <tr style=\"text-align: right;\">\n",
       "      <th></th>\n",
       "      <th>DATE</th>\n",
       "      <th>WIND</th>\n",
       "      <th>IND</th>\n",
       "      <th>RAIN</th>\n",
       "      <th>IND.1</th>\n",
       "      <th>T.MAX</th>\n",
       "      <th>IND.2</th>\n",
       "      <th>T.MIN</th>\n",
       "      <th>T.MIN.G</th>\n",
       "    </tr>\n",
       "  </thead>\n",
       "  <tbody>\n",
       "    <tr>\n",
       "      <th>0</th>\n",
       "      <td>1961-01-01</td>\n",
       "      <td>13.67</td>\n",
       "      <td>0</td>\n",
       "      <td>0.2</td>\n",
       "      <td>0.0</td>\n",
       "      <td>9.5</td>\n",
       "      <td>0.0</td>\n",
       "      <td>3.7</td>\n",
       "      <td>-1.0</td>\n",
       "    </tr>\n",
       "    <tr>\n",
       "      <th>1</th>\n",
       "      <td>1961-01-02</td>\n",
       "      <td>11.50</td>\n",
       "      <td>0</td>\n",
       "      <td>5.1</td>\n",
       "      <td>0.0</td>\n",
       "      <td>7.2</td>\n",
       "      <td>0.0</td>\n",
       "      <td>4.2</td>\n",
       "      <td>1.1</td>\n",
       "    </tr>\n",
       "    <tr>\n",
       "      <th>2</th>\n",
       "      <td>1961-01-03</td>\n",
       "      <td>11.25</td>\n",
       "      <td>0</td>\n",
       "      <td>0.4</td>\n",
       "      <td>0.0</td>\n",
       "      <td>5.5</td>\n",
       "      <td>0.0</td>\n",
       "      <td>0.5</td>\n",
       "      <td>-0.5</td>\n",
       "    </tr>\n",
       "    <tr>\n",
       "      <th>3</th>\n",
       "      <td>1961-01-04</td>\n",
       "      <td>8.63</td>\n",
       "      <td>0</td>\n",
       "      <td>0.2</td>\n",
       "      <td>0.0</td>\n",
       "      <td>5.6</td>\n",
       "      <td>0.0</td>\n",
       "      <td>0.4</td>\n",
       "      <td>-3.2</td>\n",
       "    </tr>\n",
       "    <tr>\n",
       "      <th>4</th>\n",
       "      <td>1961-01-05</td>\n",
       "      <td>11.92</td>\n",
       "      <td>0</td>\n",
       "      <td>10.4</td>\n",
       "      <td>0.0</td>\n",
       "      <td>7.2</td>\n",
       "      <td>1.0</td>\n",
       "      <td>-1.5</td>\n",
       "      <td>-7.5</td>\n",
       "    </tr>\n",
       "  </tbody>\n",
       "</table>\n",
       "</div>"
      ],
      "text/plain": [
       "         DATE   WIND  IND  RAIN  IND.1  T.MAX  IND.2  T.MIN  T.MIN.G\n",
       "0  1961-01-01  13.67    0   0.2    0.0    9.5    0.0    3.7     -1.0\n",
       "1  1961-01-02  11.50    0   5.1    0.0    7.2    0.0    4.2      1.1\n",
       "2  1961-01-03  11.25    0   0.4    0.0    5.5    0.0    0.5     -0.5\n",
       "3  1961-01-04   8.63    0   0.2    0.0    5.6    0.0    0.4     -3.2\n",
       "4  1961-01-05  11.92    0  10.4    0.0    7.2    1.0   -1.5     -7.5"
      ]
     },
     "execution_count": 4,
     "metadata": {},
     "output_type": "execute_result"
    }
   ],
   "source": [
    "df.head()"
   ]
  },
  {
   "cell_type": "code",
   "execution_count": 5,
   "id": "faf36405",
   "metadata": {
    "execution": {
     "iopub.execute_input": "2022-05-18T11:56:59.837381Z",
     "iopub.status.busy": "2022-05-18T11:56:59.836851Z",
     "iopub.status.idle": "2022-05-18T11:56:59.862461Z",
     "shell.execute_reply": "2022-05-18T11:56:59.861552Z"
    },
    "papermill": {
     "duration": 0.056005,
     "end_time": "2022-05-18T11:56:59.865120",
     "exception": false,
     "start_time": "2022-05-18T11:56:59.809115",
     "status": "completed"
    },
    "tags": []
   },
   "outputs": [
    {
     "name": "stdout",
     "output_type": "stream",
     "text": [
      "<class 'pandas.core.frame.DataFrame'>\n",
      "RangeIndex: 6574 entries, 0 to 6573\n",
      "Data columns (total 9 columns):\n",
      " #   Column   Non-Null Count  Dtype  \n",
      "---  ------   --------------  -----  \n",
      " 0   DATE     6574 non-null   object \n",
      " 1   WIND     6574 non-null   float64\n",
      " 2   IND      6574 non-null   int64  \n",
      " 3   RAIN     6574 non-null   float64\n",
      " 4   IND.1    6513 non-null   float64\n",
      " 5   T.MAX    5953 non-null   float64\n",
      " 6   IND.2    6513 non-null   float64\n",
      " 7   T.MIN    5900 non-null   float64\n",
      " 8   T.MIN.G  6214 non-null   float64\n",
      "dtypes: float64(7), int64(1), object(1)\n",
      "memory usage: 462.4+ KB\n"
     ]
    }
   ],
   "source": [
    "df.info()"
   ]
  },
  {
   "cell_type": "markdown",
   "id": "a98e6f2e",
   "metadata": {
    "papermill": {
     "duration": 0.024205,
     "end_time": "2022-05-18T11:56:59.914069",
     "exception": false,
     "start_time": "2022-05-18T11:56:59.889864",
     "status": "completed"
    },
    "tags": []
   },
   "source": [
    "# Cleaning Up Data"
   ]
  },
  {
   "cell_type": "code",
   "execution_count": 6,
   "id": "a59ac6b9",
   "metadata": {
    "execution": {
     "iopub.execute_input": "2022-05-18T11:56:59.966270Z",
     "iopub.status.busy": "2022-05-18T11:56:59.965547Z",
     "iopub.status.idle": "2022-05-18T11:56:59.981058Z",
     "shell.execute_reply": "2022-05-18T11:56:59.980283Z"
    },
    "papermill": {
     "duration": 0.044298,
     "end_time": "2022-05-18T11:56:59.983582",
     "exception": false,
     "start_time": "2022-05-18T11:56:59.939284",
     "status": "completed"
    },
    "tags": []
   },
   "outputs": [],
   "source": [
    "# We need to convert the DATE dtype from object to a datetime\n",
    "\n",
    "df['DATE'] = pd.to_datetime(df['DATE'])\n",
    "\n",
    "df['MONTH'] = df['DATE'].dt.month\n",
    "df=df.drop('DATE',axis=1)"
   ]
  },
  {
   "cell_type": "code",
   "execution_count": 7,
   "id": "f095a50c",
   "metadata": {
    "execution": {
     "iopub.execute_input": "2022-05-18T11:57:00.036906Z",
     "iopub.status.busy": "2022-05-18T11:57:00.036007Z",
     "iopub.status.idle": "2022-05-18T11:57:00.055663Z",
     "shell.execute_reply": "2022-05-18T11:57:00.054716Z"
    },
    "papermill": {
     "duration": 0.047535,
     "end_time": "2022-05-18T11:57:00.057846",
     "exception": false,
     "start_time": "2022-05-18T11:57:00.010311",
     "status": "completed"
    },
    "tags": []
   },
   "outputs": [
    {
     "data": {
      "text/html": [
       "<div>\n",
       "<style scoped>\n",
       "    .dataframe tbody tr th:only-of-type {\n",
       "        vertical-align: middle;\n",
       "    }\n",
       "\n",
       "    .dataframe tbody tr th {\n",
       "        vertical-align: top;\n",
       "    }\n",
       "\n",
       "    .dataframe thead th {\n",
       "        text-align: right;\n",
       "    }\n",
       "</style>\n",
       "<table border=\"1\" class=\"dataframe\">\n",
       "  <thead>\n",
       "    <tr style=\"text-align: right;\">\n",
       "      <th></th>\n",
       "      <th>WIND</th>\n",
       "      <th>IND</th>\n",
       "      <th>RAIN</th>\n",
       "      <th>IND.1</th>\n",
       "      <th>T.MAX</th>\n",
       "      <th>IND.2</th>\n",
       "      <th>T.MIN</th>\n",
       "      <th>T.MIN.G</th>\n",
       "      <th>MONTH</th>\n",
       "    </tr>\n",
       "  </thead>\n",
       "  <tbody>\n",
       "    <tr>\n",
       "      <th>0</th>\n",
       "      <td>13.67</td>\n",
       "      <td>0</td>\n",
       "      <td>0.2</td>\n",
       "      <td>0.0</td>\n",
       "      <td>9.5</td>\n",
       "      <td>0.0</td>\n",
       "      <td>3.7</td>\n",
       "      <td>-1.0</td>\n",
       "      <td>1</td>\n",
       "    </tr>\n",
       "    <tr>\n",
       "      <th>1</th>\n",
       "      <td>11.50</td>\n",
       "      <td>0</td>\n",
       "      <td>5.1</td>\n",
       "      <td>0.0</td>\n",
       "      <td>7.2</td>\n",
       "      <td>0.0</td>\n",
       "      <td>4.2</td>\n",
       "      <td>1.1</td>\n",
       "      <td>1</td>\n",
       "    </tr>\n",
       "    <tr>\n",
       "      <th>2</th>\n",
       "      <td>11.25</td>\n",
       "      <td>0</td>\n",
       "      <td>0.4</td>\n",
       "      <td>0.0</td>\n",
       "      <td>5.5</td>\n",
       "      <td>0.0</td>\n",
       "      <td>0.5</td>\n",
       "      <td>-0.5</td>\n",
       "      <td>1</td>\n",
       "    </tr>\n",
       "    <tr>\n",
       "      <th>3</th>\n",
       "      <td>8.63</td>\n",
       "      <td>0</td>\n",
       "      <td>0.2</td>\n",
       "      <td>0.0</td>\n",
       "      <td>5.6</td>\n",
       "      <td>0.0</td>\n",
       "      <td>0.4</td>\n",
       "      <td>-3.2</td>\n",
       "      <td>1</td>\n",
       "    </tr>\n",
       "    <tr>\n",
       "      <th>4</th>\n",
       "      <td>11.92</td>\n",
       "      <td>0</td>\n",
       "      <td>10.4</td>\n",
       "      <td>0.0</td>\n",
       "      <td>7.2</td>\n",
       "      <td>1.0</td>\n",
       "      <td>-1.5</td>\n",
       "      <td>-7.5</td>\n",
       "      <td>1</td>\n",
       "    </tr>\n",
       "  </tbody>\n",
       "</table>\n",
       "</div>"
      ],
      "text/plain": [
       "    WIND  IND  RAIN  IND.1  T.MAX  IND.2  T.MIN  T.MIN.G  MONTH\n",
       "0  13.67    0   0.2    0.0    9.5    0.0    3.7     -1.0      1\n",
       "1  11.50    0   5.1    0.0    7.2    0.0    4.2      1.1      1\n",
       "2  11.25    0   0.4    0.0    5.5    0.0    0.5     -0.5      1\n",
       "3   8.63    0   0.2    0.0    5.6    0.0    0.4     -3.2      1\n",
       "4  11.92    0  10.4    0.0    7.2    1.0   -1.5     -7.5      1"
      ]
     },
     "execution_count": 7,
     "metadata": {},
     "output_type": "execute_result"
    }
   ],
   "source": [
    "df.head()"
   ]
  },
  {
   "cell_type": "code",
   "execution_count": 8,
   "id": "8477c985",
   "metadata": {
    "execution": {
     "iopub.execute_input": "2022-05-18T11:57:00.175244Z",
     "iopub.status.busy": "2022-05-18T11:57:00.174157Z",
     "iopub.status.idle": "2022-05-18T11:57:00.189049Z",
     "shell.execute_reply": "2022-05-18T11:57:00.187811Z"
    },
    "papermill": {
     "duration": 0.045731,
     "end_time": "2022-05-18T11:57:00.191663",
     "exception": false,
     "start_time": "2022-05-18T11:57:00.145932",
     "status": "completed"
    },
    "tags": []
   },
   "outputs": [
    {
     "name": "stdout",
     "output_type": "stream",
     "text": [
      "<class 'pandas.core.frame.DataFrame'>\n",
      "RangeIndex: 6574 entries, 0 to 6573\n",
      "Data columns (total 9 columns):\n",
      " #   Column   Non-Null Count  Dtype  \n",
      "---  ------   --------------  -----  \n",
      " 0   WIND     6574 non-null   float64\n",
      " 1   IND      6574 non-null   int64  \n",
      " 2   RAIN     6574 non-null   float64\n",
      " 3   IND.1    6513 non-null   float64\n",
      " 4   T.MAX    5953 non-null   float64\n",
      " 5   IND.2    6513 non-null   float64\n",
      " 6   T.MIN    5900 non-null   float64\n",
      " 7   T.MIN.G  6214 non-null   float64\n",
      " 8   MONTH    6574 non-null   int32  \n",
      "dtypes: float64(7), int32(1), int64(1)\n",
      "memory usage: 436.7 KB\n"
     ]
    }
   ],
   "source": [
    "df.info()"
   ]
  },
  {
   "cell_type": "code",
   "execution_count": 9,
   "id": "c4661a25",
   "metadata": {
    "execution": {
     "iopub.execute_input": "2022-05-18T11:57:00.245771Z",
     "iopub.status.busy": "2022-05-18T11:57:00.244897Z",
     "iopub.status.idle": "2022-05-18T11:57:00.252792Z",
     "shell.execute_reply": "2022-05-18T11:57:00.251860Z"
    },
    "papermill": {
     "duration": 0.036943,
     "end_time": "2022-05-18T11:57:00.254959",
     "exception": false,
     "start_time": "2022-05-18T11:57:00.218016",
     "status": "completed"
    },
    "tags": []
   },
   "outputs": [
    {
     "data": {
      "text/plain": [
       "1777"
      ]
     },
     "execution_count": 9,
     "metadata": {},
     "output_type": "execute_result"
    }
   ],
   "source": [
    "# Check for null values\n",
    "\n",
    "df.isnull().sum().sum()"
   ]
  },
  {
   "cell_type": "code",
   "execution_count": 10,
   "id": "ecf86c86",
   "metadata": {
    "execution": {
     "iopub.execute_input": "2022-05-18T11:57:00.308832Z",
     "iopub.status.busy": "2022-05-18T11:57:00.308230Z",
     "iopub.status.idle": "2022-05-18T11:57:00.821721Z",
     "shell.execute_reply": "2022-05-18T11:57:00.820267Z"
    },
    "papermill": {
     "duration": 0.54318,
     "end_time": "2022-05-18T11:57:00.824156",
     "exception": false,
     "start_time": "2022-05-18T11:57:00.280976",
     "status": "completed"
    },
    "tags": []
   },
   "outputs": [
    {
     "data": {
      "text/plain": [
       "<Axes: >"
      ]
     },
     "execution_count": 10,
     "metadata": {},
     "output_type": "execute_result"
    },
    {
     "data": {
      "image/png": "[encoded data removed]",
      "text/plain": [
       "<Figure size 640x480 with 2 Axes>"
      ]
     },
     "metadata": {},
     "output_type": "display_data"
    }
   ],
   "source": [
    "sns.heatmap(df.isnull())"
   ]
  },
  {
   "cell_type": "code",
   "execution_count": 11,
   "id": "320758b4",
   "metadata": {
    "execution": {
     "iopub.execute_input": "2022-05-18T11:57:00.882204Z",
     "iopub.status.busy": "2022-05-18T11:57:00.881892Z",
     "iopub.status.idle": "2022-05-18T11:57:00.890902Z",
     "shell.execute_reply": "2022-05-18T11:57:00.890174Z"
    },
    "papermill": {
     "duration": 0.04137,
     "end_time": "2022-05-18T11:57:00.892951",
     "exception": false,
     "start_time": "2022-05-18T11:57:00.851581",
     "status": "completed"
    },
    "tags": []
   },
   "outputs": [
    {
     "data": {
      "text/plain": [
       "WIND         0\n",
       "IND          0\n",
       "RAIN         0\n",
       "IND.1       61\n",
       "T.MAX      621\n",
       "IND.2       61\n",
       "T.MIN      674\n",
       "T.MIN.G    360\n",
       "MONTH        0\n",
       "dtype: int64"
      ]
     },
     "execution_count": 11,
     "metadata": {},
     "output_type": "execute_result"
    }
   ],
   "source": [
    "df.isna().sum()"
   ]
  },
  {
   "cell_type": "code",
   "execution_count": 12,
   "id": "9ef11177",
   "metadata": {
    "execution": {
     "iopub.execute_input": "2022-05-18T11:57:00.951309Z",
     "iopub.status.busy": "2022-05-18T11:57:00.950727Z",
     "iopub.status.idle": "2022-05-18T11:57:00.959356Z",
     "shell.execute_reply": "2022-05-18T11:57:00.958407Z"
    },
    "papermill": {
     "duration": 0.039961,
     "end_time": "2022-05-18T11:57:00.961567",
     "exception": false,
     "start_time": "2022-05-18T11:57:00.921606",
     "status": "completed"
    },
    "tags": []
   },
   "outputs": [
    {
     "data": {
      "text/plain": [
       "0"
      ]
     },
     "execution_count": 12,
     "metadata": {},
     "output_type": "execute_result"
    }
   ],
   "source": [
    "# Filling these Values with 0\n",
    "\n",
    "df.fillna(0, inplace=True)\n",
    "df.isnull().sum().sum()"
   ]
  },
  {
   "cell_type": "markdown",
   "id": "f534cef5",
   "metadata": {
    "papermill": {
     "duration": 0.030124,
     "end_time": "2022-05-18T11:57:01.020851",
     "exception": false,
     "start_time": "2022-05-18T11:57:00.990727",
     "status": "completed"
    },
    "tags": []
   },
   "source": [
    "# Visualization"
   ]
  },
  {
   "cell_type": "code",
   "execution_count": 13,
   "id": "b6a4e01d",
   "metadata": {
    "execution": {
     "iopub.execute_input": "2022-05-18T11:57:01.080050Z",
     "iopub.status.busy": "2022-05-18T11:57:01.079411Z",
     "iopub.status.idle": "2022-05-18T11:57:01.419069Z",
     "shell.execute_reply": "2022-05-18T11:57:01.418090Z"
    },
    "papermill": {
     "duration": 0.372251,
     "end_time": "2022-05-18T11:57:01.421635",
     "exception": false,
     "start_time": "2022-05-18T11:57:01.049384",
     "status": "completed"
    },
    "tags": []
   },
   "outputs": [
    {
     "data": {
      "text/plain": [
       "<Axes: >"
      ]
     },
     "execution_count": 13,
     "metadata": {},
     "output_type": "execute_result"
    },
    {
     "data": {
      "image/png": "[encoded data removed]",
      "text/plain": [
       "<Figure size 640x480 with 2 Axes>"
      ]
     },
     "metadata": {},
     "output_type": "display_data"
    }
   ],
   "source": [
    "sns.heatmap(df.corr())"
   ]
  },
  {
   "cell_type": "markdown",
   "id": "0d178be7",
   "metadata": {
    "papermill": {
     "duration": 0.031376,
     "end_time": "2022-05-18T11:57:01.482489",
     "exception": false,
     "start_time": "2022-05-18T11:57:01.451113",
     "status": "completed"
    },
    "tags": []
   },
   "source": [
    "As we can see that the wind is more positively correlated to rain"
   ]
  },
  {
   "cell_type": "markdown",
   "id": "8a3ea694",
   "metadata": {
    "papermill": {
     "duration": 0.029122,
     "end_time": "2022-05-18T11:57:01.542873",
     "exception": false,
     "start_time": "2022-05-18T11:57:01.513751",
     "status": "completed"
    },
    "tags": []
   },
   "source": [
    "# Machine Learning\n",
    "\n",
    "Since this is a Regression Problem and we need to predict Average Wind Speed, we'll be using:\n",
    "* Linear Regression\n",
    "* Decision Tree\n",
    "* Random Forest"
   ]
  },
  {
   "cell_type": "code",
   "execution_count": 14,
   "id": "d181ca50",
   "metadata": {
    "execution": {
     "iopub.execute_input": "2022-05-18T11:57:01.604372Z",
     "iopub.status.busy": "2022-05-18T11:57:01.603407Z",
     "iopub.status.idle": "2022-05-18T11:57:01.609088Z",
     "shell.execute_reply": "2022-05-18T11:57:01.608441Z"
    },
    "papermill": {
     "duration": 0.038948,
     "end_time": "2022-05-18T11:57:01.611369",
     "exception": false,
     "start_time": "2022-05-18T11:57:01.572421",
     "status": "completed"
    },
    "tags": []
   },
   "outputs": [],
   "source": [
    "X = df.drop(['WIND'], axis=1)\n",
    "y = df['WIND']"
   ]
  },
  {
   "cell_type": "code",
   "execution_count": 15,
   "id": "b31aaf89",
   "metadata": {
    "execution": {
     "iopub.execute_input": "2022-05-18T11:57:01.672918Z",
     "iopub.status.busy": "2022-05-18T11:57:01.672350Z",
     "iopub.status.idle": "2022-05-18T11:57:01.904741Z",
     "shell.execute_reply": "2022-05-18T11:57:01.903902Z"
    },
    "papermill": {
     "duration": 0.26706,
     "end_time": "2022-05-18T11:57:01.908416",
     "exception": false,
     "start_time": "2022-05-18T11:57:01.641356",
     "status": "completed"
    },
    "tags": []
   },
   "outputs": [
    {
     "name": "stdout",
     "output_type": "stream",
     "text": [
      "Training dataset shape: (4404, 8) (4404,)\n",
      "Testing dataset shape: (2170, 8) (2170,)\n"
     ]
    }
   ],
   "source": [
    "from sklearn.model_selection import train_test_split\n",
    "\n",
    "X_train, X_test, y_train, y_test = train_test_split(X, y, test_size=0.33, random_state=123)\n",
    "\n",
    "print('Training dataset shape:', X_train.shape, y_train.shape)\n",
    "print('Testing dataset shape:', X_test.shape, y_test.shape)"
   ]
  },
  {
   "cell_type": "code",
   "execution_count": 16,
   "id": "79436830",
   "metadata": {
    "execution": {
     "iopub.execute_input": "2022-05-18T11:57:01.974844Z",
     "iopub.status.busy": "2022-05-18T11:57:01.974399Z",
     "iopub.status.idle": "2022-05-18T11:57:02.124305Z",
     "shell.execute_reply": "2022-05-18T11:57:02.121838Z"
    },
    "papermill": {
     "duration": 0.187152,
     "end_time": "2022-05-18T11:57:02.128099",
     "exception": false,
     "start_time": "2022-05-18T11:57:01.940947",
     "status": "completed"
    },
    "tags": []
   },
   "outputs": [
    {
     "name": "stdout",
     "output_type": "stream",
     "text": [
      "MAE: 3.8313431467114323\n",
      "MSE: 22.83565119207383\n",
      "RMSE: 4.77866625661113\n"
     ]
    }
   ],
   "source": [
    "# Linear Regression\n",
    "\n",
    "from sklearn.linear_model import LinearRegression\n",
    "from sklearn import metrics\n",
    "\n",
    "lin_reg = LinearRegression()\n",
    "lin_reg.fit(X_train, y_train)\n",
    "lin_pred = lin_reg.predict(X_test)\n",
    "\n",
    "print('MAE:', metrics.mean_absolute_error(y_test, lin_pred))\n",
    "print('MSE:', metrics.mean_squared_error(y_test, lin_pred))\n",
    "print('RMSE:', np.sqrt(metrics.mean_squared_error(y_test, lin_pred)))"
   ]
  },
  {
   "cell_type": "code",
   "execution_count": 17,
   "id": "1c61a939",
   "metadata": {
    "execution": {
     "iopub.execute_input": "2022-05-18T11:57:02.246411Z",
     "iopub.status.busy": "2022-05-18T11:57:02.246125Z",
     "iopub.status.idle": "2022-05-18T11:57:02.367671Z",
     "shell.execute_reply": "2022-05-18T11:57:02.366705Z"
    },
    "papermill": {
     "duration": 0.155946,
     "end_time": "2022-05-18T11:57:02.370141",
     "exception": false,
     "start_time": "2022-05-18T11:57:02.214195",
     "status": "completed"
    },
    "tags": []
   },
   "outputs": [
    {
     "name": "stdout",
     "output_type": "stream",
     "text": [
      "MAE: 4.7702175115207375\n",
      "MSE: 36.321418955760365\n",
      "RMSE: 6.026725392429985\n"
     ]
    }
   ],
   "source": [
    "# Decision Tree\n",
    "\n",
    "from sklearn.tree import DecisionTreeRegressor\n",
    "\n",
    "dtr = DecisionTreeRegressor()\n",
    "dtr.fit(X_train, y_train)\n",
    "dtr_pred = dtr.predict(X_test)\n",
    "\n",
    "print('MAE:', metrics.mean_absolute_error(y_test, dtr_pred))\n",
    "print('MSE:', metrics.mean_squared_error(y_test, dtr_pred))\n",
    "print('RMSE:', np.sqrt(metrics.mean_squared_error(y_test, dtr_pred)))"
   ]
  },
  {
   "cell_type": "code",
   "execution_count": 18,
   "id": "933f30c2",
   "metadata": {
    "execution": {
     "iopub.execute_input": "2022-05-18T11:57:02.433262Z",
     "iopub.status.busy": "2022-05-18T11:57:02.432916Z",
     "iopub.status.idle": "2022-05-18T11:57:02.897273Z",
     "shell.execute_reply": "2022-05-18T11:57:02.896190Z"
    },
    "papermill": {
     "duration": 0.499763,
     "end_time": "2022-05-18T11:57:02.900632",
     "exception": false,
     "start_time": "2022-05-18T11:57:02.400869",
     "status": "completed"
    },
    "tags": []
   },
   "outputs": [
    {
     "name": "stdout",
     "output_type": "stream",
     "text": [
      "MAE: 3.7144016440301515\n",
      "MSE: 21.72861596094446\n",
      "RMSE: 4.661396353126867\n"
     ]
    }
   ],
   "source": [
    "# Random Forest Regressor\n",
    "\n",
    "from sklearn.ensemble import RandomForestRegressor\n",
    "\n",
    "rfr = RandomForestRegressor(max_depth=2, random_state=0)\n",
    "rfr.fit(X_train, y_train)\n",
    "rfr_pred = rfr.predict(X_test)\n",
    "\n",
    "print('MAE:', metrics.mean_absolute_error(y_test, rfr_pred))\n",
    "print('MSE:', metrics.mean_squared_error(y_test, rfr_pred))\n",
    "print('RMSE:', np.sqrt(metrics.mean_squared_error(y_test, rfr_pred)))"
   ]
  },
  {
   "cell_type": "code",
   "execution_count": 19,
   "id": "973658ae",
   "metadata": {},
   "outputs": [],
   "source": [
    "import pickle\n",
    "\n",
    "with open('wind_speed_rfr.pkl', 'wb') as file:\n",
    "    pickle.dump(rfr, file)"
   ]
  },
  {
   "cell_type": "markdown",
   "id": "0a00e8b7",
   "metadata": {
    "papermill": {
     "duration": 0.030694,
     "end_time": "2022-05-18T11:57:02.964619",
     "exception": false,
     "start_time": "2022-05-18T11:57:02.933925",
     "status": "completed"
    },
    "tags": []
   },
   "source": [
    "Since Random Forest Regressor has lower values in metrics than the others, therefore it seems like a better model for our data"
   ]
  },
  {
   "cell_type": "code",
   "execution_count": null,
   "id": "d980964a",
   "metadata": {},
   "outputs": [],
   "source": []
  },
  {
   "cell_type": "code",
   "execution_count": null,
   "id": "4448e676",
   "metadata": {},
   "outputs": [],
   "source": []
  },
  {
   "cell_type": "code",
   "execution_count": null,
   "id": "739cbeee",
   "metadata": {},
   "outputs": [],
   "source": []
  }
 ],
 "metadata": {
  "kernelspec": {
   "display_name": "Python 3 (ipykernel)",
   "language": "python",
   "name": "python3"
  },
  "language_info": {
   "codemirror_mode": {
    "name": "ipython",
    "version": 3
   },
   "file_extension": ".py",
   "mimetype": "text/x-python",
   "name": "python",
   "nbconvert_exporter": "python",
   "pygments_lexer": "ipython3",
   "version": "3.11.5"
  },
  "papermill": {
   "default_parameters": {},
   "duration": 16.270761,
   "end_time": "2022-05-18T11:57:03.819415",
   "environment_variables": {},
   "exception": null,
   "input_path": "__notebook__.ipynb",
   "output_path": "__notebook__.ipynb",
   "parameters": {},
   "start_time": "2022-05-18T11:56:47.548654",
   "version": "2.3.4"
  }
 },
 "nbformat": 4,
 "nbformat_minor": 5
}
